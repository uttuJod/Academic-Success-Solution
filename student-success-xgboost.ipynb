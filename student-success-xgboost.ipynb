{
 "cells": [
  {
   "cell_type": "code",
   "execution_count": 1,
   "id": "b2c4f0c6",
   "metadata": {
    "_cell_guid": "b1076dfc-b9ad-4769-8c92-a6c4dae69d19",
    "_uuid": "8f2839f25d086af736a60e9eeb907d3b93b6e0e5",
    "execution": {
     "iopub.execute_input": "2024-11-07T11:09:19.059847Z",
     "iopub.status.busy": "2024-11-07T11:09:19.059363Z",
     "iopub.status.idle": "2024-11-07T11:09:20.056187Z",
     "shell.execute_reply": "2024-11-07T11:09:20.054850Z"
    },
    "papermill": {
     "duration": 1.008202,
     "end_time": "2024-11-07T11:09:20.059035",
     "exception": false,
     "start_time": "2024-11-07T11:09:19.050833",
     "status": "completed"
    },
    "tags": []
   },
   "outputs": [
    {
     "name": "stdout",
     "output_type": "stream",
     "text": [
      "/kaggle/input/playground-series-s4e6/sample_submission.csv\n",
      "/kaggle/input/playground-series-s4e6/train.csv\n",
      "/kaggle/input/playground-series-s4e6/test.csv\n"
     ]
    }
   ],
   "source": [
    "# This Python 3 environment comes with many helpful analytics libraries installed\n",
    "# It is defined by the kaggle/python Docker image: https://github.com/kaggle/docker-python\n",
    "# For example, here's several helpful packages to load\n",
    "\n",
    "import numpy as np # linear algebra\n",
    "import pandas as pd # data processing, CSV file I/O (e.g. pd.read_csv)\n",
    "\n",
    "# Input data files are available in the read-only \"../input/\" directory\n",
    "# For example, running this (by clicking run or pressing Shift+Enter) will list all files under the input directory\n",
    "\n",
    "import os\n",
    "for dirname, _, filenames in os.walk('/kaggle/input'):\n",
    "    for filename in filenames:\n",
    "        print(os.path.join(dirname, filename))\n",
    "\n",
    "# You can write up to 20GB to the current directory (/kaggle/working/) that gets preserved as output when you create a version using \"Save & Run All\" \n",
    "# You can also write temporary files to /kaggle/temp/, but they won't be saved outside of the current session"
   ]
  },
  {
   "cell_type": "code",
   "execution_count": 2,
   "id": "e3c7da55",
   "metadata": {
    "execution": {
     "iopub.execute_input": "2024-11-07T11:09:20.074357Z",
     "iopub.status.busy": "2024-11-07T11:09:20.073389Z",
     "iopub.status.idle": "2024-11-07T11:09:20.755597Z",
     "shell.execute_reply": "2024-11-07T11:09:20.754664Z"
    },
    "papermill": {
     "duration": 0.692604,
     "end_time": "2024-11-07T11:09:20.758354",
     "exception": false,
     "start_time": "2024-11-07T11:09:20.065750",
     "status": "completed"
    },
    "tags": []
   },
   "outputs": [],
   "source": [
    "train=pd.read_csv('/kaggle/input/playground-series-s4e6/train.csv')\n",
    "test=pd.read_csv('/kaggle/input/playground-series-s4e6/test.csv')"
   ]
  },
  {
   "cell_type": "code",
   "execution_count": 3,
   "id": "d808d464",
   "metadata": {
    "execution": {
     "iopub.execute_input": "2024-11-07T11:09:20.773513Z",
     "iopub.status.busy": "2024-11-07T11:09:20.772501Z",
     "iopub.status.idle": "2024-11-07T11:09:20.813879Z",
     "shell.execute_reply": "2024-11-07T11:09:20.812743Z"
    },
    "papermill": {
     "duration": 0.052001,
     "end_time": "2024-11-07T11:09:20.816880",
     "exception": false,
     "start_time": "2024-11-07T11:09:20.764879",
     "status": "completed"
    },
    "tags": []
   },
   "outputs": [
    {
     "data": {
      "text/html": [
       "<div>\n",
       "<style scoped>\n",
       "    .dataframe tbody tr th:only-of-type {\n",
       "        vertical-align: middle;\n",
       "    }\n",
       "\n",
       "    .dataframe tbody tr th {\n",
       "        vertical-align: top;\n",
       "    }\n",
       "\n",
       "    .dataframe thead th {\n",
       "        text-align: right;\n",
       "    }\n",
       "</style>\n",
       "<table border=\"1\" class=\"dataframe\">\n",
       "  <thead>\n",
       "    <tr style=\"text-align: right;\">\n",
       "      <th></th>\n",
       "      <th>id</th>\n",
       "      <th>Marital status</th>\n",
       "      <th>Application mode</th>\n",
       "      <th>Application order</th>\n",
       "      <th>Course</th>\n",
       "      <th>Daytime/evening attendance</th>\n",
       "      <th>Previous qualification</th>\n",
       "      <th>Previous qualification (grade)</th>\n",
       "      <th>Nacionality</th>\n",
       "      <th>Mother's qualification</th>\n",
       "      <th>...</th>\n",
       "      <th>Curricular units 2nd sem (credited)</th>\n",
       "      <th>Curricular units 2nd sem (enrolled)</th>\n",
       "      <th>Curricular units 2nd sem (evaluations)</th>\n",
       "      <th>Curricular units 2nd sem (approved)</th>\n",
       "      <th>Curricular units 2nd sem (grade)</th>\n",
       "      <th>Curricular units 2nd sem (without evaluations)</th>\n",
       "      <th>Unemployment rate</th>\n",
       "      <th>Inflation rate</th>\n",
       "      <th>GDP</th>\n",
       "      <th>Target</th>\n",
       "    </tr>\n",
       "  </thead>\n",
       "  <tbody>\n",
       "    <tr>\n",
       "      <th>0</th>\n",
       "      <td>0</td>\n",
       "      <td>1</td>\n",
       "      <td>1</td>\n",
       "      <td>1</td>\n",
       "      <td>9238</td>\n",
       "      <td>1</td>\n",
       "      <td>1</td>\n",
       "      <td>126.0</td>\n",
       "      <td>1</td>\n",
       "      <td>1</td>\n",
       "      <td>...</td>\n",
       "      <td>0</td>\n",
       "      <td>6</td>\n",
       "      <td>7</td>\n",
       "      <td>6</td>\n",
       "      <td>12.428571</td>\n",
       "      <td>0</td>\n",
       "      <td>11.1</td>\n",
       "      <td>0.6</td>\n",
       "      <td>2.02</td>\n",
       "      <td>Graduate</td>\n",
       "    </tr>\n",
       "    <tr>\n",
       "      <th>1</th>\n",
       "      <td>1</td>\n",
       "      <td>1</td>\n",
       "      <td>17</td>\n",
       "      <td>1</td>\n",
       "      <td>9238</td>\n",
       "      <td>1</td>\n",
       "      <td>1</td>\n",
       "      <td>125.0</td>\n",
       "      <td>1</td>\n",
       "      <td>19</td>\n",
       "      <td>...</td>\n",
       "      <td>0</td>\n",
       "      <td>6</td>\n",
       "      <td>9</td>\n",
       "      <td>0</td>\n",
       "      <td>0.000000</td>\n",
       "      <td>0</td>\n",
       "      <td>11.1</td>\n",
       "      <td>0.6</td>\n",
       "      <td>2.02</td>\n",
       "      <td>Dropout</td>\n",
       "    </tr>\n",
       "    <tr>\n",
       "      <th>2</th>\n",
       "      <td>2</td>\n",
       "      <td>1</td>\n",
       "      <td>17</td>\n",
       "      <td>2</td>\n",
       "      <td>9254</td>\n",
       "      <td>1</td>\n",
       "      <td>1</td>\n",
       "      <td>137.0</td>\n",
       "      <td>1</td>\n",
       "      <td>3</td>\n",
       "      <td>...</td>\n",
       "      <td>0</td>\n",
       "      <td>6</td>\n",
       "      <td>0</td>\n",
       "      <td>0</td>\n",
       "      <td>0.000000</td>\n",
       "      <td>0</td>\n",
       "      <td>16.2</td>\n",
       "      <td>0.3</td>\n",
       "      <td>-0.92</td>\n",
       "      <td>Dropout</td>\n",
       "    </tr>\n",
       "    <tr>\n",
       "      <th>3</th>\n",
       "      <td>3</td>\n",
       "      <td>1</td>\n",
       "      <td>1</td>\n",
       "      <td>3</td>\n",
       "      <td>9500</td>\n",
       "      <td>1</td>\n",
       "      <td>1</td>\n",
       "      <td>131.0</td>\n",
       "      <td>1</td>\n",
       "      <td>19</td>\n",
       "      <td>...</td>\n",
       "      <td>0</td>\n",
       "      <td>8</td>\n",
       "      <td>11</td>\n",
       "      <td>7</td>\n",
       "      <td>12.820000</td>\n",
       "      <td>0</td>\n",
       "      <td>11.1</td>\n",
       "      <td>0.6</td>\n",
       "      <td>2.02</td>\n",
       "      <td>Enrolled</td>\n",
       "    </tr>\n",
       "    <tr>\n",
       "      <th>4</th>\n",
       "      <td>4</td>\n",
       "      <td>1</td>\n",
       "      <td>1</td>\n",
       "      <td>2</td>\n",
       "      <td>9500</td>\n",
       "      <td>1</td>\n",
       "      <td>1</td>\n",
       "      <td>132.0</td>\n",
       "      <td>1</td>\n",
       "      <td>19</td>\n",
       "      <td>...</td>\n",
       "      <td>0</td>\n",
       "      <td>7</td>\n",
       "      <td>12</td>\n",
       "      <td>6</td>\n",
       "      <td>12.933333</td>\n",
       "      <td>0</td>\n",
       "      <td>7.6</td>\n",
       "      <td>2.6</td>\n",
       "      <td>0.32</td>\n",
       "      <td>Graduate</td>\n",
       "    </tr>\n",
       "  </tbody>\n",
       "</table>\n",
       "<p>5 rows × 38 columns</p>\n",
       "</div>"
      ],
      "text/plain": [
       "   id  Marital status  Application mode  Application order  Course  \\\n",
       "0   0               1                 1                  1    9238   \n",
       "1   1               1                17                  1    9238   \n",
       "2   2               1                17                  2    9254   \n",
       "3   3               1                 1                  3    9500   \n",
       "4   4               1                 1                  2    9500   \n",
       "\n",
       "   Daytime/evening attendance  Previous qualification  \\\n",
       "0                           1                       1   \n",
       "1                           1                       1   \n",
       "2                           1                       1   \n",
       "3                           1                       1   \n",
       "4                           1                       1   \n",
       "\n",
       "   Previous qualification (grade)  Nacionality  Mother's qualification  ...  \\\n",
       "0                           126.0            1                       1  ...   \n",
       "1                           125.0            1                      19  ...   \n",
       "2                           137.0            1                       3  ...   \n",
       "3                           131.0            1                      19  ...   \n",
       "4                           132.0            1                      19  ...   \n",
       "\n",
       "   Curricular units 2nd sem (credited)  Curricular units 2nd sem (enrolled)  \\\n",
       "0                                    0                                    6   \n",
       "1                                    0                                    6   \n",
       "2                                    0                                    6   \n",
       "3                                    0                                    8   \n",
       "4                                    0                                    7   \n",
       "\n",
       "   Curricular units 2nd sem (evaluations)  \\\n",
       "0                                       7   \n",
       "1                                       9   \n",
       "2                                       0   \n",
       "3                                      11   \n",
       "4                                      12   \n",
       "\n",
       "   Curricular units 2nd sem (approved)  Curricular units 2nd sem (grade)  \\\n",
       "0                                    6                         12.428571   \n",
       "1                                    0                          0.000000   \n",
       "2                                    0                          0.000000   \n",
       "3                                    7                         12.820000   \n",
       "4                                    6                         12.933333   \n",
       "\n",
       "   Curricular units 2nd sem (without evaluations)  Unemployment rate  \\\n",
       "0                                               0               11.1   \n",
       "1                                               0               11.1   \n",
       "2                                               0               16.2   \n",
       "3                                               0               11.1   \n",
       "4                                               0                7.6   \n",
       "\n",
       "   Inflation rate   GDP    Target  \n",
       "0             0.6  2.02  Graduate  \n",
       "1             0.6  2.02   Dropout  \n",
       "2             0.3 -0.92   Dropout  \n",
       "3             0.6  2.02  Enrolled  \n",
       "4             2.6  0.32  Graduate  \n",
       "\n",
       "[5 rows x 38 columns]"
      ]
     },
     "execution_count": 3,
     "metadata": {},
     "output_type": "execute_result"
    }
   ],
   "source": [
    "train.head()"
   ]
  },
  {
   "cell_type": "code",
   "execution_count": 4,
   "id": "ea03d599",
   "metadata": {
    "execution": {
     "iopub.execute_input": "2024-11-07T11:09:20.833114Z",
     "iopub.status.busy": "2024-11-07T11:09:20.832286Z",
     "iopub.status.idle": "2024-11-07T11:09:20.868781Z",
     "shell.execute_reply": "2024-11-07T11:09:20.867712Z"
    },
    "papermill": {
     "duration": 0.047672,
     "end_time": "2024-11-07T11:09:20.871613",
     "exception": false,
     "start_time": "2024-11-07T11:09:20.823941",
     "status": "completed"
    },
    "tags": []
   },
   "outputs": [
    {
     "name": "stdout",
     "output_type": "stream",
     "text": [
      "<class 'pandas.core.frame.DataFrame'>\n",
      "RangeIndex: 76518 entries, 0 to 76517\n",
      "Data columns (total 38 columns):\n",
      " #   Column                                          Non-Null Count  Dtype  \n",
      "---  ------                                          --------------  -----  \n",
      " 0   id                                              76518 non-null  int64  \n",
      " 1   Marital status                                  76518 non-null  int64  \n",
      " 2   Application mode                                76518 non-null  int64  \n",
      " 3   Application order                               76518 non-null  int64  \n",
      " 4   Course                                          76518 non-null  int64  \n",
      " 5   Daytime/evening attendance                      76518 non-null  int64  \n",
      " 6   Previous qualification                          76518 non-null  int64  \n",
      " 7   Previous qualification (grade)                  76518 non-null  float64\n",
      " 8   Nacionality                                     76518 non-null  int64  \n",
      " 9   Mother's qualification                          76518 non-null  int64  \n",
      " 10  Father's qualification                          76518 non-null  int64  \n",
      " 11  Mother's occupation                             76518 non-null  int64  \n",
      " 12  Father's occupation                             76518 non-null  int64  \n",
      " 13  Admission grade                                 76518 non-null  float64\n",
      " 14  Displaced                                       76518 non-null  int64  \n",
      " 15  Educational special needs                       76518 non-null  int64  \n",
      " 16  Debtor                                          76518 non-null  int64  \n",
      " 17  Tuition fees up to date                         76518 non-null  int64  \n",
      " 18  Gender                                          76518 non-null  int64  \n",
      " 19  Scholarship holder                              76518 non-null  int64  \n",
      " 20  Age at enrollment                               76518 non-null  int64  \n",
      " 21  International                                   76518 non-null  int64  \n",
      " 22  Curricular units 1st sem (credited)             76518 non-null  int64  \n",
      " 23  Curricular units 1st sem (enrolled)             76518 non-null  int64  \n",
      " 24  Curricular units 1st sem (evaluations)          76518 non-null  int64  \n",
      " 25  Curricular units 1st sem (approved)             76518 non-null  int64  \n",
      " 26  Curricular units 1st sem (grade)                76518 non-null  float64\n",
      " 27  Curricular units 1st sem (without evaluations)  76518 non-null  int64  \n",
      " 28  Curricular units 2nd sem (credited)             76518 non-null  int64  \n",
      " 29  Curricular units 2nd sem (enrolled)             76518 non-null  int64  \n",
      " 30  Curricular units 2nd sem (evaluations)          76518 non-null  int64  \n",
      " 31  Curricular units 2nd sem (approved)             76518 non-null  int64  \n",
      " 32  Curricular units 2nd sem (grade)                76518 non-null  float64\n",
      " 33  Curricular units 2nd sem (without evaluations)  76518 non-null  int64  \n",
      " 34  Unemployment rate                               76518 non-null  float64\n",
      " 35  Inflation rate                                  76518 non-null  float64\n",
      " 36  GDP                                             76518 non-null  float64\n",
      " 37  Target                                          76518 non-null  object \n",
      "dtypes: float64(7), int64(30), object(1)\n",
      "memory usage: 22.2+ MB\n"
     ]
    }
   ],
   "source": [
    "train.info()"
   ]
  },
  {
   "cell_type": "code",
   "execution_count": 5,
   "id": "18a9be08",
   "metadata": {
    "execution": {
     "iopub.execute_input": "2024-11-07T11:09:20.888049Z",
     "iopub.status.busy": "2024-11-07T11:09:20.887243Z",
     "iopub.status.idle": "2024-11-07T11:09:21.058774Z",
     "shell.execute_reply": "2024-11-07T11:09:21.057540Z"
    },
    "papermill": {
     "duration": 0.183082,
     "end_time": "2024-11-07T11:09:21.061804",
     "exception": false,
     "start_time": "2024-11-07T11:09:20.878722",
     "status": "completed"
    },
    "tags": []
   },
   "outputs": [
    {
     "data": {
      "text/html": [
       "<div>\n",
       "<style scoped>\n",
       "    .dataframe tbody tr th:only-of-type {\n",
       "        vertical-align: middle;\n",
       "    }\n",
       "\n",
       "    .dataframe tbody tr th {\n",
       "        vertical-align: top;\n",
       "    }\n",
       "\n",
       "    .dataframe thead th {\n",
       "        text-align: right;\n",
       "    }\n",
       "</style>\n",
       "<table border=\"1\" class=\"dataframe\">\n",
       "  <thead>\n",
       "    <tr style=\"text-align: right;\">\n",
       "      <th></th>\n",
       "      <th>id</th>\n",
       "      <th>Marital status</th>\n",
       "      <th>Application mode</th>\n",
       "      <th>Application order</th>\n",
       "      <th>Course</th>\n",
       "      <th>Daytime/evening attendance</th>\n",
       "      <th>Previous qualification</th>\n",
       "      <th>Previous qualification (grade)</th>\n",
       "      <th>Nacionality</th>\n",
       "      <th>Mother's qualification</th>\n",
       "      <th>...</th>\n",
       "      <th>Curricular units 1st sem (without evaluations)</th>\n",
       "      <th>Curricular units 2nd sem (credited)</th>\n",
       "      <th>Curricular units 2nd sem (enrolled)</th>\n",
       "      <th>Curricular units 2nd sem (evaluations)</th>\n",
       "      <th>Curricular units 2nd sem (approved)</th>\n",
       "      <th>Curricular units 2nd sem (grade)</th>\n",
       "      <th>Curricular units 2nd sem (without evaluations)</th>\n",
       "      <th>Unemployment rate</th>\n",
       "      <th>Inflation rate</th>\n",
       "      <th>GDP</th>\n",
       "    </tr>\n",
       "  </thead>\n",
       "  <tbody>\n",
       "    <tr>\n",
       "      <th>count</th>\n",
       "      <td>76518.000000</td>\n",
       "      <td>76518.000000</td>\n",
       "      <td>76518.000000</td>\n",
       "      <td>76518.000000</td>\n",
       "      <td>76518.000000</td>\n",
       "      <td>76518.000000</td>\n",
       "      <td>76518.000000</td>\n",
       "      <td>76518.000000</td>\n",
       "      <td>76518.000000</td>\n",
       "      <td>76518.000000</td>\n",
       "      <td>...</td>\n",
       "      <td>76518.00000</td>\n",
       "      <td>76518.000000</td>\n",
       "      <td>76518.000000</td>\n",
       "      <td>76518.000000</td>\n",
       "      <td>76518.000000</td>\n",
       "      <td>76518.000000</td>\n",
       "      <td>76518.000000</td>\n",
       "      <td>76518.000000</td>\n",
       "      <td>76518.000000</td>\n",
       "      <td>76518.000000</td>\n",
       "    </tr>\n",
       "    <tr>\n",
       "      <th>mean</th>\n",
       "      <td>38258.500000</td>\n",
       "      <td>1.111934</td>\n",
       "      <td>16.054419</td>\n",
       "      <td>1.644410</td>\n",
       "      <td>9001.286377</td>\n",
       "      <td>0.915314</td>\n",
       "      <td>3.658760</td>\n",
       "      <td>132.378766</td>\n",
       "      <td>1.226600</td>\n",
       "      <td>19.837633</td>\n",
       "      <td>...</td>\n",
       "      <td>0.05796</td>\n",
       "      <td>0.137053</td>\n",
       "      <td>5.933414</td>\n",
       "      <td>7.234468</td>\n",
       "      <td>4.007201</td>\n",
       "      <td>9.626085</td>\n",
       "      <td>0.062443</td>\n",
       "      <td>11.520340</td>\n",
       "      <td>1.228218</td>\n",
       "      <td>-0.080921</td>\n",
       "    </tr>\n",
       "    <tr>\n",
       "      <th>std</th>\n",
       "      <td>22088.988286</td>\n",
       "      <td>0.441669</td>\n",
       "      <td>16.682337</td>\n",
       "      <td>1.229645</td>\n",
       "      <td>1803.438531</td>\n",
       "      <td>0.278416</td>\n",
       "      <td>8.623774</td>\n",
       "      <td>10.995328</td>\n",
       "      <td>3.392183</td>\n",
       "      <td>15.399456</td>\n",
       "      <td>...</td>\n",
       "      <td>0.40849</td>\n",
       "      <td>0.933830</td>\n",
       "      <td>1.627182</td>\n",
       "      <td>3.503040</td>\n",
       "      <td>2.772956</td>\n",
       "      <td>5.546035</td>\n",
       "      <td>0.462107</td>\n",
       "      <td>2.653375</td>\n",
       "      <td>1.398816</td>\n",
       "      <td>2.251382</td>\n",
       "    </tr>\n",
       "    <tr>\n",
       "      <th>min</th>\n",
       "      <td>0.000000</td>\n",
       "      <td>1.000000</td>\n",
       "      <td>1.000000</td>\n",
       "      <td>0.000000</td>\n",
       "      <td>33.000000</td>\n",
       "      <td>0.000000</td>\n",
       "      <td>1.000000</td>\n",
       "      <td>95.000000</td>\n",
       "      <td>1.000000</td>\n",
       "      <td>1.000000</td>\n",
       "      <td>...</td>\n",
       "      <td>0.00000</td>\n",
       "      <td>0.000000</td>\n",
       "      <td>0.000000</td>\n",
       "      <td>0.000000</td>\n",
       "      <td>0.000000</td>\n",
       "      <td>0.000000</td>\n",
       "      <td>0.000000</td>\n",
       "      <td>7.600000</td>\n",
       "      <td>-0.800000</td>\n",
       "      <td>-4.060000</td>\n",
       "    </tr>\n",
       "    <tr>\n",
       "      <th>25%</th>\n",
       "      <td>19129.250000</td>\n",
       "      <td>1.000000</td>\n",
       "      <td>1.000000</td>\n",
       "      <td>1.000000</td>\n",
       "      <td>9119.000000</td>\n",
       "      <td>1.000000</td>\n",
       "      <td>1.000000</td>\n",
       "      <td>125.000000</td>\n",
       "      <td>1.000000</td>\n",
       "      <td>1.000000</td>\n",
       "      <td>...</td>\n",
       "      <td>0.00000</td>\n",
       "      <td>0.000000</td>\n",
       "      <td>5.000000</td>\n",
       "      <td>6.000000</td>\n",
       "      <td>1.000000</td>\n",
       "      <td>10.000000</td>\n",
       "      <td>0.000000</td>\n",
       "      <td>9.400000</td>\n",
       "      <td>0.300000</td>\n",
       "      <td>-1.700000</td>\n",
       "    </tr>\n",
       "    <tr>\n",
       "      <th>50%</th>\n",
       "      <td>38258.500000</td>\n",
       "      <td>1.000000</td>\n",
       "      <td>17.000000</td>\n",
       "      <td>1.000000</td>\n",
       "      <td>9254.000000</td>\n",
       "      <td>1.000000</td>\n",
       "      <td>1.000000</td>\n",
       "      <td>133.100000</td>\n",
       "      <td>1.000000</td>\n",
       "      <td>19.000000</td>\n",
       "      <td>...</td>\n",
       "      <td>0.00000</td>\n",
       "      <td>0.000000</td>\n",
       "      <td>6.000000</td>\n",
       "      <td>7.000000</td>\n",
       "      <td>5.000000</td>\n",
       "      <td>12.142857</td>\n",
       "      <td>0.000000</td>\n",
       "      <td>11.100000</td>\n",
       "      <td>1.400000</td>\n",
       "      <td>0.320000</td>\n",
       "    </tr>\n",
       "    <tr>\n",
       "      <th>75%</th>\n",
       "      <td>57387.750000</td>\n",
       "      <td>1.000000</td>\n",
       "      <td>39.000000</td>\n",
       "      <td>2.000000</td>\n",
       "      <td>9670.000000</td>\n",
       "      <td>1.000000</td>\n",
       "      <td>1.000000</td>\n",
       "      <td>140.000000</td>\n",
       "      <td>1.000000</td>\n",
       "      <td>37.000000</td>\n",
       "      <td>...</td>\n",
       "      <td>0.00000</td>\n",
       "      <td>0.000000</td>\n",
       "      <td>6.000000</td>\n",
       "      <td>9.000000</td>\n",
       "      <td>6.000000</td>\n",
       "      <td>13.244048</td>\n",
       "      <td>0.000000</td>\n",
       "      <td>12.700000</td>\n",
       "      <td>2.600000</td>\n",
       "      <td>1.790000</td>\n",
       "    </tr>\n",
       "    <tr>\n",
       "      <th>max</th>\n",
       "      <td>76517.000000</td>\n",
       "      <td>6.000000</td>\n",
       "      <td>53.000000</td>\n",
       "      <td>9.000000</td>\n",
       "      <td>9991.000000</td>\n",
       "      <td>1.000000</td>\n",
       "      <td>43.000000</td>\n",
       "      <td>190.000000</td>\n",
       "      <td>109.000000</td>\n",
       "      <td>44.000000</td>\n",
       "      <td>...</td>\n",
       "      <td>12.00000</td>\n",
       "      <td>19.000000</td>\n",
       "      <td>23.000000</td>\n",
       "      <td>33.000000</td>\n",
       "      <td>20.000000</td>\n",
       "      <td>18.000000</td>\n",
       "      <td>12.000000</td>\n",
       "      <td>16.200000</td>\n",
       "      <td>3.700000</td>\n",
       "      <td>3.510000</td>\n",
       "    </tr>\n",
       "  </tbody>\n",
       "</table>\n",
       "<p>8 rows × 37 columns</p>\n",
       "</div>"
      ],
      "text/plain": [
       "                 id  Marital status  Application mode  Application order  \\\n",
       "count  76518.000000    76518.000000      76518.000000       76518.000000   \n",
       "mean   38258.500000        1.111934         16.054419           1.644410   \n",
       "std    22088.988286        0.441669         16.682337           1.229645   \n",
       "min        0.000000        1.000000          1.000000           0.000000   \n",
       "25%    19129.250000        1.000000          1.000000           1.000000   \n",
       "50%    38258.500000        1.000000         17.000000           1.000000   \n",
       "75%    57387.750000        1.000000         39.000000           2.000000   \n",
       "max    76517.000000        6.000000         53.000000           9.000000   \n",
       "\n",
       "             Course  Daytime/evening attendance  Previous qualification  \\\n",
       "count  76518.000000                76518.000000            76518.000000   \n",
       "mean    9001.286377                    0.915314                3.658760   \n",
       "std     1803.438531                    0.278416                8.623774   \n",
       "min       33.000000                    0.000000                1.000000   \n",
       "25%     9119.000000                    1.000000                1.000000   \n",
       "50%     9254.000000                    1.000000                1.000000   \n",
       "75%     9670.000000                    1.000000                1.000000   \n",
       "max     9991.000000                    1.000000               43.000000   \n",
       "\n",
       "       Previous qualification (grade)   Nacionality  Mother's qualification  \\\n",
       "count                    76518.000000  76518.000000            76518.000000   \n",
       "mean                       132.378766      1.226600               19.837633   \n",
       "std                         10.995328      3.392183               15.399456   \n",
       "min                         95.000000      1.000000                1.000000   \n",
       "25%                        125.000000      1.000000                1.000000   \n",
       "50%                        133.100000      1.000000               19.000000   \n",
       "75%                        140.000000      1.000000               37.000000   \n",
       "max                        190.000000    109.000000               44.000000   \n",
       "\n",
       "       ...  Curricular units 1st sem (without evaluations)  \\\n",
       "count  ...                                     76518.00000   \n",
       "mean   ...                                         0.05796   \n",
       "std    ...                                         0.40849   \n",
       "min    ...                                         0.00000   \n",
       "25%    ...                                         0.00000   \n",
       "50%    ...                                         0.00000   \n",
       "75%    ...                                         0.00000   \n",
       "max    ...                                        12.00000   \n",
       "\n",
       "       Curricular units 2nd sem (credited)  \\\n",
       "count                         76518.000000   \n",
       "mean                              0.137053   \n",
       "std                               0.933830   \n",
       "min                               0.000000   \n",
       "25%                               0.000000   \n",
       "50%                               0.000000   \n",
       "75%                               0.000000   \n",
       "max                              19.000000   \n",
       "\n",
       "       Curricular units 2nd sem (enrolled)  \\\n",
       "count                         76518.000000   \n",
       "mean                              5.933414   \n",
       "std                               1.627182   \n",
       "min                               0.000000   \n",
       "25%                               5.000000   \n",
       "50%                               6.000000   \n",
       "75%                               6.000000   \n",
       "max                              23.000000   \n",
       "\n",
       "       Curricular units 2nd sem (evaluations)  \\\n",
       "count                            76518.000000   \n",
       "mean                                 7.234468   \n",
       "std                                  3.503040   \n",
       "min                                  0.000000   \n",
       "25%                                  6.000000   \n",
       "50%                                  7.000000   \n",
       "75%                                  9.000000   \n",
       "max                                 33.000000   \n",
       "\n",
       "       Curricular units 2nd sem (approved)  Curricular units 2nd sem (grade)  \\\n",
       "count                         76518.000000                      76518.000000   \n",
       "mean                              4.007201                          9.626085   \n",
       "std                               2.772956                          5.546035   \n",
       "min                               0.000000                          0.000000   \n",
       "25%                               1.000000                         10.000000   \n",
       "50%                               5.000000                         12.142857   \n",
       "75%                               6.000000                         13.244048   \n",
       "max                              20.000000                         18.000000   \n",
       "\n",
       "       Curricular units 2nd sem (without evaluations)  Unemployment rate  \\\n",
       "count                                    76518.000000       76518.000000   \n",
       "mean                                         0.062443          11.520340   \n",
       "std                                          0.462107           2.653375   \n",
       "min                                          0.000000           7.600000   \n",
       "25%                                          0.000000           9.400000   \n",
       "50%                                          0.000000          11.100000   \n",
       "75%                                          0.000000          12.700000   \n",
       "max                                         12.000000          16.200000   \n",
       "\n",
       "       Inflation rate           GDP  \n",
       "count    76518.000000  76518.000000  \n",
       "mean         1.228218     -0.080921  \n",
       "std          1.398816      2.251382  \n",
       "min         -0.800000     -4.060000  \n",
       "25%          0.300000     -1.700000  \n",
       "50%          1.400000      0.320000  \n",
       "75%          2.600000      1.790000  \n",
       "max          3.700000      3.510000  \n",
       "\n",
       "[8 rows x 37 columns]"
      ]
     },
     "execution_count": 5,
     "metadata": {},
     "output_type": "execute_result"
    }
   ],
   "source": [
    "train.describe()"
   ]
  },
  {
   "cell_type": "code",
   "execution_count": 6,
   "id": "5cd2f6b8",
   "metadata": {
    "execution": {
     "iopub.execute_input": "2024-11-07T11:09:21.079320Z",
     "iopub.status.busy": "2024-11-07T11:09:21.078903Z",
     "iopub.status.idle": "2024-11-07T11:09:21.092726Z",
     "shell.execute_reply": "2024-11-07T11:09:21.091736Z"
    },
    "papermill": {
     "duration": 0.02591,
     "end_time": "2024-11-07T11:09:21.095481",
     "exception": false,
     "start_time": "2024-11-07T11:09:21.069571",
     "status": "completed"
    },
    "tags": []
   },
   "outputs": [],
   "source": [
    "X_train=train.drop(['id','Target'],axis=1)\n",
    "X_test=test.drop(['id'],axis=1)\n",
    "y_train=train.Target.values"
   ]
  },
  {
   "cell_type": "code",
   "execution_count": 7,
   "id": "5599a94e",
   "metadata": {
    "execution": {
     "iopub.execute_input": "2024-11-07T11:09:21.112752Z",
     "iopub.status.busy": "2024-11-07T11:09:21.112307Z",
     "iopub.status.idle": "2024-11-07T11:09:22.538639Z",
     "shell.execute_reply": "2024-11-07T11:09:22.537518Z"
    },
    "papermill": {
     "duration": 1.438082,
     "end_time": "2024-11-07T11:09:22.541420",
     "exception": false,
     "start_time": "2024-11-07T11:09:21.103338",
     "status": "completed"
    },
    "tags": []
   },
   "outputs": [],
   "source": [
    "from sklearn.preprocessing import StandardScaler\n",
    "scaler =StandardScaler()"
   ]
  },
  {
   "cell_type": "code",
   "execution_count": 8,
   "id": "2b6a42bc",
   "metadata": {
    "execution": {
     "iopub.execute_input": "2024-11-07T11:09:22.560267Z",
     "iopub.status.busy": "2024-11-07T11:09:22.559049Z",
     "iopub.status.idle": "2024-11-07T11:09:22.654957Z",
     "shell.execute_reply": "2024-11-07T11:09:22.653693Z"
    },
    "papermill": {
     "duration": 0.108521,
     "end_time": "2024-11-07T11:09:22.657762",
     "exception": false,
     "start_time": "2024-11-07T11:09:22.549241",
     "status": "completed"
    },
    "tags": []
   },
   "outputs": [],
   "source": [
    "X_train=scaler.fit_transform(X_train)\n",
    "X_test=scaler.fit_transform(X_test)"
   ]
  },
  {
   "cell_type": "code",
   "execution_count": 9,
   "id": "5ee573e6",
   "metadata": {
    "execution": {
     "iopub.execute_input": "2024-11-07T11:09:22.675169Z",
     "iopub.status.busy": "2024-11-07T11:09:22.674405Z",
     "iopub.status.idle": "2024-11-07T11:09:22.679385Z",
     "shell.execute_reply": "2024-11-07T11:09:22.678309Z"
    },
    "papermill": {
     "duration": 0.01683,
     "end_time": "2024-11-07T11:09:22.682261",
     "exception": false,
     "start_time": "2024-11-07T11:09:22.665431",
     "status": "completed"
    },
    "tags": []
   },
   "outputs": [],
   "source": [
    "from sklearn.preprocessing import LabelEncoder\n",
    "le = LabelEncoder()"
   ]
  },
  {
   "cell_type": "code",
   "execution_count": 10,
   "id": "9f628b09",
   "metadata": {
    "execution": {
     "iopub.execute_input": "2024-11-07T11:09:22.701075Z",
     "iopub.status.busy": "2024-11-07T11:09:22.700072Z",
     "iopub.status.idle": "2024-11-07T11:09:22.728006Z",
     "shell.execute_reply": "2024-11-07T11:09:22.726967Z"
    },
    "papermill": {
     "duration": 0.04018,
     "end_time": "2024-11-07T11:09:22.730480",
     "exception": false,
     "start_time": "2024-11-07T11:09:22.690300",
     "status": "completed"
    },
    "tags": []
   },
   "outputs": [],
   "source": [
    "y_train=le.fit_transform(y_train)"
   ]
  },
  {
   "cell_type": "code",
   "execution_count": 11,
   "id": "e23fda4c",
   "metadata": {
    "execution": {
     "iopub.execute_input": "2024-11-07T11:09:22.747549Z",
     "iopub.status.busy": "2024-11-07T11:09:22.746881Z",
     "iopub.status.idle": "2024-11-07T11:09:23.169243Z",
     "shell.execute_reply": "2024-11-07T11:09:23.168273Z"
    },
    "papermill": {
     "duration": 0.433856,
     "end_time": "2024-11-07T11:09:23.171975",
     "exception": false,
     "start_time": "2024-11-07T11:09:22.738119",
     "status": "completed"
    },
    "tags": []
   },
   "outputs": [],
   "source": [
    "from xgboost import XGBClassifier\n",
    "xgb= XGBClassifier()"
   ]
  },
  {
   "cell_type": "code",
   "execution_count": 12,
   "id": "f63290d6",
   "metadata": {
    "execution": {
     "iopub.execute_input": "2024-11-07T11:09:23.190109Z",
     "iopub.status.busy": "2024-11-07T11:09:23.189296Z",
     "iopub.status.idle": "2024-11-07T11:09:26.790927Z",
     "shell.execute_reply": "2024-11-07T11:09:26.789937Z"
    },
    "papermill": {
     "duration": 3.613858,
     "end_time": "2024-11-07T11:09:26.793576",
     "exception": false,
     "start_time": "2024-11-07T11:09:23.179718",
     "status": "completed"
    },
    "tags": []
   },
   "outputs": [],
   "source": [
    "xgb.fit(X_train,y_train)\n",
    "y_pred=xgb.predict(X_test)"
   ]
  },
  {
   "cell_type": "code",
   "execution_count": 13,
   "id": "6282de97",
   "metadata": {
    "execution": {
     "iopub.execute_input": "2024-11-07T11:09:26.812105Z",
     "iopub.status.busy": "2024-11-07T11:09:26.811360Z",
     "iopub.status.idle": "2024-11-07T11:09:26.818836Z",
     "shell.execute_reply": "2024-11-07T11:09:26.817444Z"
    },
    "papermill": {
     "duration": 0.019092,
     "end_time": "2024-11-07T11:09:26.821400",
     "exception": false,
     "start_time": "2024-11-07T11:09:26.802308",
     "status": "completed"
    },
    "tags": []
   },
   "outputs": [],
   "source": [
    "y_pred = le.inverse_transform(y_pred)"
   ]
  },
  {
   "cell_type": "code",
   "execution_count": 14,
   "id": "99d55311",
   "metadata": {
    "execution": {
     "iopub.execute_input": "2024-11-07T11:09:26.839100Z",
     "iopub.status.busy": "2024-11-07T11:09:26.838102Z",
     "iopub.status.idle": "2024-11-07T11:09:26.843720Z",
     "shell.execute_reply": "2024-11-07T11:09:26.842584Z"
    },
    "papermill": {
     "duration": 0.017236,
     "end_time": "2024-11-07T11:09:26.846350",
     "exception": false,
     "start_time": "2024-11-07T11:09:26.829114",
     "status": "completed"
    },
    "tags": []
   },
   "outputs": [],
   "source": [
    "from sklearn.metrics import accuracy_score"
   ]
  },
  {
   "cell_type": "code",
   "execution_count": 15,
   "id": "ed1fbdd3",
   "metadata": {
    "execution": {
     "iopub.execute_input": "2024-11-07T11:09:26.863629Z",
     "iopub.status.busy": "2024-11-07T11:09:26.863192Z",
     "iopub.status.idle": "2024-11-07T11:09:27.114500Z",
     "shell.execute_reply": "2024-11-07T11:09:27.113387Z"
    },
    "papermill": {
     "duration": 0.26331,
     "end_time": "2024-11-07T11:09:27.117510",
     "exception": false,
     "start_time": "2024-11-07T11:09:26.854200",
     "status": "completed"
    },
    "tags": []
   },
   "outputs": [
    {
     "name": "stdout",
     "output_type": "stream",
     "text": [
      "Accuracy=0.8765911288847069\n"
     ]
    }
   ],
   "source": [
    "train_preds = xgb.predict(X_train)\n",
    "accuracy = accuracy_score(y_train, train_preds)\n",
    "print(f\"Accuracy={accuracy}\")"
   ]
  },
  {
   "cell_type": "code",
   "execution_count": 16,
   "id": "b3bde6b2",
   "metadata": {
    "execution": {
     "iopub.execute_input": "2024-11-07T11:09:27.135492Z",
     "iopub.status.busy": "2024-11-07T11:09:27.135087Z",
     "iopub.status.idle": "2024-11-07T11:09:27.141375Z",
     "shell.execute_reply": "2024-11-07T11:09:27.140307Z"
    },
    "papermill": {
     "duration": 0.017683,
     "end_time": "2024-11-07T11:09:27.143787",
     "exception": false,
     "start_time": "2024-11-07T11:09:27.126104",
     "status": "completed"
    },
    "tags": []
   },
   "outputs": [],
   "source": [
    "submission = pd.DataFrame({\n",
    "    'id': test['id'],\n",
    "    'Target': y_pred\n",
    "})"
   ]
  },
  {
   "cell_type": "code",
   "execution_count": 17,
   "id": "b5e0ca57",
   "metadata": {
    "execution": {
     "iopub.execute_input": "2024-11-07T11:09:27.161021Z",
     "iopub.status.busy": "2024-11-07T11:09:27.160544Z",
     "iopub.status.idle": "2024-11-07T11:09:27.253214Z",
     "shell.execute_reply": "2024-11-07T11:09:27.251720Z"
    },
    "papermill": {
     "duration": 0.104204,
     "end_time": "2024-11-07T11:09:27.255796",
     "exception": false,
     "start_time": "2024-11-07T11:09:27.151592",
     "status": "completed"
    },
    "tags": []
   },
   "outputs": [
    {
     "name": "stdout",
     "output_type": "stream",
     "text": [
      "Submission is successfully saved!\n"
     ]
    }
   ],
   "source": [
    "submission.to_csv('submission.csv', index=False)\n",
    "print(\"Submission is successfully saved!\")"
   ]
  }
 ],
 "metadata": {
  "kaggle": {
   "accelerator": "none",
   "dataSources": [
    {
     "databundleVersionId": 8710574,
     "sourceId": 73290,
     "sourceType": "competition"
    }
   ],
   "dockerImageVersionId": 30786,
   "isGpuEnabled": false,
   "isInternetEnabled": false,
   "language": "python",
   "sourceType": "notebook"
  },
  "kernelspec": {
   "display_name": "Python 3",
   "language": "python",
   "name": "python3"
  },
  "language_info": {
   "codemirror_mode": {
    "name": "ipython",
    "version": 3
   },
   "file_extension": ".py",
   "mimetype": "text/x-python",
   "name": "python",
   "nbconvert_exporter": "python",
   "pygments_lexer": "ipython3",
   "version": "3.10.14"
  },
  "papermill": {
   "default_parameters": {},
   "duration": 12.078077,
   "end_time": "2024-11-07T11:09:27.885846",
   "environment_variables": {},
   "exception": null,
   "input_path": "__notebook__.ipynb",
   "output_path": "__notebook__.ipynb",
   "parameters": {},
   "start_time": "2024-11-07T11:09:15.807769",
   "version": "2.6.0"
  }
 },
 "nbformat": 4,
 "nbformat_minor": 5
}
